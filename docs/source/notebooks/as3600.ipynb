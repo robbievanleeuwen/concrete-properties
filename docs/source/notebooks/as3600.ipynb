{
 "cells": [
  {
   "cell_type": "markdown",
   "id": "74325597",
   "metadata": {},
   "source": [
    "# AS3600 Design Code\n",
    "This example demonstrates how to work with the AS3600:2018 design code. We start by importing the necessary modules."
   ]
  },
  {
   "cell_type": "code",
   "execution_count": null,
   "id": "2cc8d9e1",
   "metadata": {},
   "outputs": [],
   "source": [
    "import numpy as np\n",
    "import matplotlib.pyplot as plt\n",
    "from concreteproperties.design_codes.as3600 import AS3600\n",
    "import concreteproperties.stress_strain_profile as ssp\n",
    "from sectionproperties.pre.library.concrete_sections import concrete_rectangular_section\n",
    "from concreteproperties.concrete_section import ConcreteSection\n",
    "from concreteproperties.results import MomentInteractionResults"
   ]
  },
  {
   "cell_type": "markdown",
   "id": "af123cc6",
   "metadata": {},
   "source": [
    "## Create Design Code and Materials\n",
    "In this example 40 MPa concrete will be used with the default 500N steel."
   ]
  },
  {
   "cell_type": "code",
   "execution_count": null,
   "id": "7f855b51",
   "metadata": {},
   "outputs": [],
   "source": [
    "design_code = AS3600()\n",
    "concrete = design_code.create_concrete_material(compressive_strength=40)\n",
    "steel = design_code.create_steel_material()"
   ]
  },
  {
   "cell_type": "markdown",
   "id": "71e39c4d",
   "metadata": {},
   "source": [
    "We can confirm the concrete material properties."
   ]
  },
  {
   "cell_type": "code",
   "execution_count": null,
   "id": "95b447b8",
   "metadata": {},
   "outputs": [],
   "source": [
    "print(concrete.name)\n",
    "print(f\"Density = {concrete.density} kg/mm^3\")\n",
    "concrete.stress_strain_profile.plot_stress_strain(title=\"Service Profile\")\n",
    "concrete.ultimate_stress_strain_profile.plot_stress_strain(title=\"Ultimate Profile\")\n",
    "print(\n",
    "    f\"Concrete Flexural Tensile Strength: {concrete.flexural_tensile_strength:.2f} MPa\"\n",
    ")"
   ]
  },
  {
   "cell_type": "markdown",
   "id": "6bf41226",
   "metadata": {},
   "source": [
    "We can confirm the steel material properties."
   ]
  },
  {
   "cell_type": "code",
   "execution_count": null,
   "id": "da3c63ac",
   "metadata": {},
   "outputs": [],
   "source": [
    "print(steel.name)\n",
    "print(f\"Density = {steel.density} kg/mm^3\")\n",
    "steel.stress_strain_profile.plot_stress_strain()"
   ]
  },
  {
   "cell_type": "markdown",
   "id": "a36ba8e5",
   "metadata": {},
   "source": [
    "## Assign Geometry to Design Code\n",
    "This example will analyse a 600D x 450W concrete beam with 5N20s top and bottom. After creating the geometry it must be assigned to the design code object."
   ]
  },
  {
   "cell_type": "code",
   "execution_count": null,
   "id": "62f94928",
   "metadata": {
    "scrolled": true
   },
   "outputs": [],
   "source": [
    "geom = concrete_rectangular_section(\n",
    "    b=450,\n",
    "    d=600,\n",
    "    dia_top=20,\n",
    "    n_top=5,\n",
    "    dia_bot=20,\n",
    "    n_bot=5,\n",
    "    n_circle=4,\n",
    "    cover=30,\n",
    "    area_top=310,\n",
    "    area_bot=310,\n",
    "    conc_mat=concrete,\n",
    "    steel_mat=steel,\n",
    ")\n",
    "\n",
    "conc_sec = ConcreteSection(geom)\n",
    "conc_sec.plot_section()\n",
    "design_code.assign_concrete_section(concrete_section=conc_sec)"
   ]
  },
  {
   "cell_type": "markdown",
   "id": "570a507e",
   "metadata": {},
   "source": [
    "## Area Properties\n",
    "Obtaining the area properties is identical to that of a ``ConcreteSection`` object. The same can be done for a moment-curvature analysis and stress analyses (not carried out in this example)."
   ]
  },
  {
   "cell_type": "code",
   "execution_count": null,
   "id": "0600160c",
   "metadata": {},
   "outputs": [],
   "source": [
    "gross_props = design_code.get_gross_properties()\n",
    "transformed_props = design_code.get_transformed_gross_properties(\n",
    "    elastic_modulus=concrete.stress_strain_profile.elastic_modulus\n",
    ")\n",
    "cracked_props = design_code.calculate_cracked_properties()\n",
    "\n",
    "gross_props.print_results()\n",
    "cracked_props.print_results()"
   ]
  },
  {
   "cell_type": "markdown",
   "id": "91cba2ec",
   "metadata": {},
   "source": [
    "## Ultimate Bending Capacity\n",
    "The factored ultimate bending capacity can be found by calling the ``ultimate_bending_capacity()`` method. This method returns a factored and unfactored ``UltimateBendingResults`` object, as well as the capacity reduction factor ``phi``."
   ]
  },
  {
   "cell_type": "code",
   "execution_count": null,
   "id": "7d5024b5",
   "metadata": {
    "scrolled": true
   },
   "outputs": [],
   "source": [
    "f_ult_res, ult_res, phi = design_code.ultimate_bending_capacity()\n",
    "print(f\"Muo = {ult_res.m_xy / 1e6:.2f} kN.m\")\n",
    "print(f\"kuo = {ult_res.k_u:.4f}\")\n",
    "print(f\"phi = {phi:.3f}\")\n",
    "print(f\"phi.Muo = {f_ult_res.m_xy / 1e6:.2f} kN.m\")"
   ]
  },
  {
   "cell_type": "markdown",
   "id": "36e4bc89",
   "metadata": {},
   "source": [
    "We can also pass an axial load to ``ultimate_bending_capacity()``. This will calculate the factored moment capacity by ensuring the supplied axial load equals the factored axial capacity, i.e. given a design axial force, what is the maximum moment my section can handle?"
   ]
  },
  {
   "cell_type": "code",
   "execution_count": null,
   "id": "3bbed1ba",
   "metadata": {},
   "outputs": [],
   "source": [
    "n_star = 1000e3\n",
    "f_ult_res, ult_res, phi = design_code.ultimate_bending_capacity(n_design=n_star)\n",
    "print(f\"N* = {n_star / 1e3:.0f} kN\")\n",
    "print(f\"Nu = {ult_res.n / 1e3:.2f} kN\")\n",
    "print(f\"Mu = {ult_res.m_xy / 1e6:.2f} kN.m\")\n",
    "print(f\"phi = {phi:.3f}\")\n",
    "print(f\"phi.Nu = {f_ult_res.n / 1e3:.0f} kN\")\n",
    "print(f\"phi.Mu = {f_ult_res.m_xy / 1e6:.2f} kN.m\")"
   ]
  },
  {
   "cell_type": "markdown",
   "id": "765a6aa7",
   "metadata": {},
   "source": [
    "## Moment Interaction Diagram\n",
    "The factored moment interaction diagram can be found by calling the ``moment_interaction_diagram()`` method. This method returns a factored and unfactored ``MomentInteractionResults`` object."
   ]
  },
  {
   "cell_type": "code",
   "execution_count": null,
   "id": "399fe29b",
   "metadata": {},
   "outputs": [],
   "source": [
    "f_mi_res, mi_res, phis = design_code.moment_interaction_diagram(progress_bar=False)"
   ]
  },
  {
   "cell_type": "markdown",
   "id": "6efff33f",
   "metadata": {},
   "source": [
    "We can compare the factored and unfactored moment interaction diagrams."
   ]
  },
  {
   "cell_type": "code",
   "execution_count": null,
   "id": "474ff488",
   "metadata": {},
   "outputs": [],
   "source": [
    "MomentInteractionResults.plot_multiple_diagrams(\n",
    "    [f_mi_res, mi_res], [\"Factored\", \"Unfactored\"], fmt=\"-\"\n",
    ")"
   ]
  },
  {
   "cell_type": "markdown",
   "id": "ecb3bdb8",
   "metadata": {},
   "source": [
    "Using the list of capacity reduction factors ``phis``, we can visualise how the capacity reduction factor varies as a function of the applied axial load."
   ]
  },
  {
   "cell_type": "code",
   "execution_count": null,
   "id": "7efa6c46",
   "metadata": {},
   "outputs": [],
   "source": [
    "fig, ax = plt.subplots()\n",
    "n_list, _ = mi_res.get_results_lists(moment=\"m_x\")  # get list of axial loads\n",
    "ax.plot(np.array(n_list) / 1e3, phis, \"-x\")\n",
    "plt.xlabel(\"Axial Force [kN]\")\n",
    "plt.ylabel(\"$\\phi$\")\n",
    "plt.grid()\n",
    "plt.show()"
   ]
  },
  {
   "cell_type": "markdown",
   "id": "cd78b316",
   "metadata": {},
   "source": [
    "We can check to see if a combination of axial force and bending moment lies within the moment interaction diagram using the ``point_in_diagram()`` method."
   ]
  },
  {
   "cell_type": "code",
   "execution_count": null,
   "id": "bd208faa",
   "metadata": {
    "scrolled": true
   },
   "outputs": [],
   "source": [
    "# design load cases\n",
    "n_stars = [4000e3, 5000e3, -500e3, 1000e3]\n",
    "m_stars = [200e6, 400e6, 100e6, 551e6]\n",
    "marker_styles = [\"x\", \"+\", \"o\", \"*\"]\n",
    "n_cases = len(n_stars)\n",
    "\n",
    "# plot moment interaction diagram\n",
    "ax = f_mi_res.plot_diagram(fmt=\"k-\", render=False)\n",
    "\n",
    "# check to see if combination is within diagram and plot result\n",
    "for idx in range(n_cases):\n",
    "    case = f_mi_res.point_in_diagram(n=n_stars[idx], m=m_stars[idx])\n",
    "    print(\"Case {num}: {status}\".format(num=idx + 1, status=\"OK\" if case else \"FAIL\"))\n",
    "    ax.plot(\n",
    "        m_stars[idx] / 1e6,\n",
    "        n_stars[idx] / 1e3,\n",
    "        \"k\" + marker_styles[idx],\n",
    "        markersize=10,\n",
    "        label=f\"Case {idx + 1}\",\n",
    "    )\n",
    "\n",
    "ax.legend()\n",
    "plt.show()"
   ]
  },
  {
   "cell_type": "markdown",
   "id": "b28993c7",
   "metadata": {},
   "source": [
    "Let's compare moment interaction diagrams using a rectangular stress block, a bilinear stress profile and a parabolic stress profile. AS 3600:2018 restricts the maximum stress in the profile to ``0.9 * f'c``."
   ]
  },
  {
   "cell_type": "code",
   "execution_count": null,
   "id": "e05c4125",
   "metadata": {},
   "outputs": [],
   "source": [
    "# bilinear\n",
    "concrete.ultimate_stress_strain_profile = ssp.BilinearStressStrain(\n",
    "    compressive_strength=0.9 * 40,\n",
    "    compressive_strain=0.0015,\n",
    "    ultimate_strain=0.003,\n",
    ")\n",
    "f_mi_res_bil, _, _ = design_code.moment_interaction_diagram(progress_bar=False)\n",
    "\n",
    "# parabolic\n",
    "concrete.ultimate_stress_strain_profile = ssp.EurocodeParabolicUltimate(\n",
    "    compressive_strength=40,\n",
    "    limiting_strain=0.003,\n",
    "    alpha_cc=0.9,\n",
    "    gamma_c=1,\n",
    ")\n",
    "f_mi_res_par, _, _ = design_code.moment_interaction_diagram(progress_bar=False)"
   ]
  },
  {
   "cell_type": "code",
   "execution_count": null,
   "id": "6862f7fb",
   "metadata": {},
   "outputs": [],
   "source": [
    "MomentInteractionResults.plot_multiple_diagrams(\n",
    "    [f_mi_res, f_mi_res_bil, f_mi_res_par],\n",
    "    [\"Rectangular\", \"Bilinear\", \"Parabolic\"],\n",
    "    fmt=\"-\",\n",
    ")"
   ]
  },
  {
   "cell_type": "markdown",
   "id": "0ff302a0",
   "metadata": {},
   "source": [
    "## Biaxial Bending Diagram\n",
    "We can also compute factored biaxial bending diagrams by calling the ``biaxial_bending_diagram()`` method. This method returns a factored ``BiaxialBendingResults`` object as well as a list of the capacity reduction factors ``phis``."
   ]
  },
  {
   "cell_type": "code",
   "execution_count": null,
   "id": "0e109210",
   "metadata": {},
   "outputs": [],
   "source": [
    "# reset concrete ultimate profile\n",
    "concrete.ultimate_stress_strain_profile = ssp.RectangularStressBlock(\n",
    "    compressive_strength=40,\n",
    "    alpha=0.79,\n",
    "    gamma=0.87,\n",
    "    ultimate_strain=0.003,\n",
    ")\n",
    "\n",
    "# create biaxial bending diagram\n",
    "f_bb_res1, phis1 = design_code.biaxial_bending_diagram(progress_bar=False)\n",
    "bb_res1 = conc_sec.biaxial_bending_diagram(progress_bar=False)\n",
    "f_bb_res2, phis2 = design_code.biaxial_bending_diagram(\n",
    "    n_design=2000e3, progress_bar=False\n",
    ")\n",
    "bb_res2 = conc_sec.biaxial_bending_diagram(n=2000e3, progress_bar=False)"
   ]
  },
  {
   "cell_type": "code",
   "execution_count": null,
   "id": "120cbe55",
   "metadata": {
    "scrolled": true
   },
   "outputs": [],
   "source": [
    "# plot case 1\n",
    "ax = f_bb_res1.plot_diagram(fmt=\"-\", render=False)\n",
    "bb_res1.plot_diagram(fmt=\"-\", ax=ax)\n",
    "plt.show()\n",
    "print(f\"Average phi = {np.mean(phis1):.3f}\")\n",
    "\n",
    "# plot case 2\n",
    "ax = f_bb_res2.plot_diagram(fmt=\"-\", render=False)\n",
    "bb_res2.plot_diagram(fmt=\"-\", ax=ax)\n",
    "plt.show()\n",
    "print(f\"Average phi = {np.mean(phis2):.3f}\")"
   ]
  },
  {
   "cell_type": "markdown",
   "id": "04d321b3",
   "metadata": {},
   "source": [
    "Note that as the bending angle changes, ``k_uo`` and ``N_ub`` change, resulting in a constantly changing value for ``phi``."
   ]
  }
 ],
 "metadata": {
  "kernelspec": {
   "display_name": "Python 3",
   "language": "python",
   "name": "python3"
  },
  "language_info": {
   "codemirror_mode": {
    "name": "ipython",
    "version": 3
   },
   "file_extension": ".py",
   "mimetype": "text/x-python",
   "name": "python",
   "nbconvert_exporter": "python",
   "pygments_lexer": "ipython3",
   "version": "3.10.9 (tags/v3.10.9:1dd9be6, Dec  6 2022, 20:01:21) [MSC v.1934 64 bit (AMD64)]"
  },
  "vscode": {
   "interpreter": {
    "hash": "0803bda3a9df4dd3228c2723d1aeb0efd0f1b14533af55b8e50ccbc570bcf420"
   }
  }
 },
 "nbformat": 4,
 "nbformat_minor": 5
}
